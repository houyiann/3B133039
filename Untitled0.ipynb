{
  "nbformat": 4,
  "nbformat_minor": 0,
  "metadata": {
    "colab": {
      "provenance": [],
      "authorship_tag": "ABX9TyN4Ktk77iOG8qMrSwir1y/4",
      "include_colab_link": true
    },
    "kernelspec": {
      "name": "python3",
      "display_name": "Python 3"
    },
    "language_info": {
      "name": "python"
    }
  },
  "cells": [
    {
      "cell_type": "markdown",
      "metadata": {
        "id": "view-in-github",
        "colab_type": "text"
      },
      "source": [
        "<a href=\"https://colab.research.google.com/github/houyiann/3B133039/blob/main/Untitled0.ipynb\" target=\"_parent\"><img src=\"https://colab.research.google.com/assets/colab-badge.svg\" alt=\"Open In Colab\"/></a>"
      ]
    },
    {
      "cell_type": "markdown",
      "source": [
        "1."
      ],
      "metadata": {
        "id": "EVNLKXJ6mN7p"
      }
    },
    {
      "cell_type": "code",
      "execution_count": 2,
      "metadata": {
        "id": "7YufOitO5JeG",
        "colab": {
          "base_uri": "https://localhost:8080/"
        },
        "outputId": "c1ea217a-8fed-42b0-94d3-1bdfffe7efb8"
      },
      "outputs": [
        {
          "output_type": "stream",
          "name": "stdout",
          "text": [
            "127\n"
          ]
        }
      ],
      "source": [
        "a=' 大道之行也，天  下為公。 選賢與能，講信  修睦。故人不獨親其親，不獨子其子；使老有所終，壯有 所用，幼有 所長，矜寡孤獨廢疾者，皆有所養；男有分 女有歸。貨惡其棄 於地也不必藏於  己；力惡其不  出於身也不必為己。是故 謀閉而不興 ，盜竊亂賊而不作，故外戶而 不閉，是謂「大同」。'\n",
        "b=a.replace(' ','') \n",
        "print(len(b))"
      ]
    },
    {
      "cell_type": "markdown",
      "source": [
        "2."
      ],
      "metadata": {
        "id": "aL4o--8-mIP0"
      }
    },
    {
      "cell_type": "code",
      "source": [
        "c=b.replace('。','。\\n').replace('；','；\\n').replace('，','，\\n') \n",
        "d=c.replace('。','').replace('；','').replace('，','')\n",
        "print(d) "
      ],
      "metadata": {
        "id": "uvrS_L-pT73w",
        "colab": {
          "base_uri": "https://localhost:8080/"
        },
        "outputId": "56acf1b8-3b8f-4061-9520-a79e9529d148"
      },
      "execution_count": 7,
      "outputs": [
        {
          "output_type": "stream",
          "name": "stdout",
          "text": [
            "大道之行也\n",
            "天下為公\n",
            "選賢與能\n",
            "講信修睦\n",
            "故人不獨親其親\n",
            "不獨子其子\n",
            "使老有所終\n",
            "壯有所用\n",
            "幼有所長\n",
            "矜寡孤獨廢疾者\n",
            "皆有所養\n",
            "男有分女有歸\n",
            "貨惡其棄於地也不必藏於己\n",
            "力惡其不出於身也不必為己\n",
            "是故謀閉而不興\n",
            "盜竊亂賊而不作\n",
            "故外戶而不閉\n",
            "是謂「大同」\n",
            "\n"
          ]
        }
      ]
    },
    {
      "cell_type": "markdown",
      "source": [
        "3."
      ],
      "metadata": {
        "id": "TZ0yiLoVnhYC"
      }
    },
    {
      "cell_type": "code",
      "source": [
        "z=b.count('不')\n",
        "print(z)"
      ],
      "metadata": {
        "colab": {
          "base_uri": "https://localhost:8080/"
        },
        "id": "Ir5DQDTTn3vk",
        "outputId": "6e3154f5-71f6-439b-fd7f-70987b306a06"
      },
      "execution_count": 4,
      "outputs": [
        {
          "output_type": "stream",
          "name": "stdout",
          "text": [
            "8\n"
          ]
        }
      ]
    }
  ]
}