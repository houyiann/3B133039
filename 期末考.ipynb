{
  "nbformat": 4,
  "nbformat_minor": 0,
  "metadata": {
    "colab": {
      "provenance": [],
      "authorship_tag": "ABX9TyP0QJhjF7NL3cqTrShyZPiO",
      "include_colab_link": true
    },
    "kernelspec": {
      "name": "python3",
      "display_name": "Python 3"
    },
    "language_info": {
      "name": "python"
    }
  },
  "cells": [
    {
      "cell_type": "markdown",
      "metadata": {
        "id": "view-in-github",
        "colab_type": "text"
      },
      "source": [
        "<a href=\"https://colab.research.google.com/github/houyiann/3B133039/blob/main/%E6%9C%9F%E6%9C%AB%E8%80%83.ipynb\" target=\"_parent\"><img src=\"https://colab.research.google.com/assets/colab-badge.svg\" alt=\"Open In Colab\"/></a>"
      ]
    },
    {
      "cell_type": "code",
      "source": [
        "import math\n",
        "\n",
        "class City:\n",
        "    def __init__(self, name, x, y, accommodation_cost):\n",
        "        self.name = name\n",
        "        self.x = x\n",
        "        self.y = y\n",
        "        self.accommodation_cost = accommodation_cost\n",
        "\n",
        "def calculate_discounted_cost(previous_city, current_city):\n",
        "    discount = 0.8  # 80% discount for certain city combinations\n",
        "    if (previous_city.name == 'C' and current_city.name == 'G') or (previous_city.name == 'G' and current_city.name == 'C'):\n",
        "        return current_city.accommodation_cost * discount\n",
        "    elif (previous_city.name == 'A' and current_city.name == 'F') or (previous_city.name == 'C' and current_city.name == 'F'):\n",
        "        return current_city.accommodation_cost * discount\n",
        "    elif (previous_city.name == 'B' and current_city.name == 'E') or (previous_city.name == 'E' and current_city.name == 'B'):\n",
        "        return current_city.accommodation_cost * discount\n",
        "    elif (previous_city.name == 'A' and current_city.name == 'D') or (previous_city.name == 'B' and current_city.name == 'D'):\n",
        "        return current_city.accommodation_cost * discount\n",
        "    else:\n",
        "        return current_city.accommodation_cost\n",
        "\n",
        "def find_cheapest_travel_plan(start_city, cities):\n",
        "    path = [start_city]\n",
        "    total_cost = 0\n",
        "\n",
        "    while len(path) < len(cities):\n",
        "        current_city = path[-1]\n",
        "        min_distance = math.inf\n",
        "        next_city = None\n",
        "\n",
        "        for city in cities:\n",
        "            if city not in path:\n",
        "                distance = math.sqrt((current_city.x - city.x)**2 + (current_city.y - city.y)**2)\n",
        "                if distance < min_distance:\n",
        "                    min_distance = distance\n",
        "                    next_city = city\n",
        "\n",
        "        total_cost += min_distance * 100  # Fuel cost\n",
        "        total_cost += calculate_discounted_cost(current_city, next_city)  # Accommodation cost\n",
        "        path.append(next_city)\n",
        "\n",
        "    total_cost += math.sqrt((path[-1].x - start_city.x)**2 + (path[-1].y - start_city.y)**2) * 100  # Return to start city\n",
        "\n",
        "    return path, total_cost\n",
        "\n",
        "# 建立城市物件\n",
        "city_A = City('A', 0, 0, 2000)\n",
        "city_B = City('B', 0, 120, 2400)\n",
        "city_C = City('C', 30, 100, 2400)\n",
        "city_D = City('D', 80, 0, 1600)\n",
        "city_E = City('E', 45, 10, 1500)\n",
        "city_F = City('F', 90, 160, 2200)\n",
        "city_G = City('G', 120, 200, 1200)\n",
        "\n",
        "cities = [city_A, city_B, city_C, city_D, city_E, city_F, city_G]\n",
        "\n",
        "# 找出最便宜旅遊方案\n",
        "start_city = city_A\n",
        "path, total_cost = find_cheapest_travel_plan(start_city, cities)\n",
        "\n",
        "# 列印結果\n",
        "print(\"遊歷順序:\")\n",
        "for city in path:\n",
        "    print(city.name)\n",
        "print(\"總共花費的旅費:\", total_cost)\n"
      ],
      "metadata": {
        "colab": {
          "base_uri": "https://localhost:8080/"
        },
        "id": "zA8hrNfn9skJ",
        "outputId": "c73bf2ed-074a-4713-be2c-0eb3e7632613"
      },
      "execution_count": null,
      "outputs": [
        {
          "output_type": "stream",
          "name": "stdout",
          "text": [
            "遊歷順序:\n",
            "A\n",
            "E\n",
            "D\n",
            "C\n",
            "B\n",
            "F\n",
            "G\n",
            "總共花費的旅費: 72508.38371742694\n"
          ]
        }
      ]
    }
  ]
}